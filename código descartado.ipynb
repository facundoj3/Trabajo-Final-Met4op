{
 "cells": [
  {
   "cell_type": "code",
   "execution_count": 1,
   "id": "11c30ce5-b5a6-4f70-8eef-3dd93b81b68e",
   "metadata": {},
   "outputs": [
    {
     "data": {
      "text/plain": [
       "'\\n# Definir los puntos medios de los grupos de edad\\npuntos_medios_edad = {\\n    \"16 a 25\": 20.5,\\n    \"26 a 35\": 30.5,\\n    \"36 a 45\": 40.5,\\n    \"46 a 55\": 50.5,\\n    \"56 y mas\": 65.5\\n}\\n# Mapear los valores en la columna \\'edad\\'\\ngeo_encuestados[\\'EDAD_PROMEDIOS\\'] = geo_encuestados[\\'EDAD\\'].map(puntos_medios_edad)\\n\\n#geo_encuestados[\"LIBERTARIOS_PCT\"] = geo_encuestados[\"Voto_Libertarios\"].sum() / geo_encuestados.shape[0]\\n#print(geo_encuestados[\"Voto_Libertarios\"].value_counts())\\n#print(geo_encuestados[\"LIBERTARIOS_PCT\"])\\n\\n\\n# Correlación de Pearson entre \\'edad_num\\' y \\'voto_partido_X\\'\\ncorrelacion, p_valor = pearsonr(geo_encuestados[\\'EDAD_PROMEDIOS\\'], geo_encuestados[\\'Voto_Libertarios\\'])\\nprint(f\"Correlación de Pearson: {correlacion}\")\\nprint(f\"Valor p: {p_valor}\")\\n\\nplt.figure(figsize=(10, 6))\\nsns.regplot(\\n    data=geo_encuestados,\\n    x=\"EDAD_PROMEDIOS\",\\n    y=\"Voto_Libertarios\",\\n    logistic=True,  # Ideal para relaciones binarias\\n    scatter_kws={\"s\": 50, \"alpha\": 0.6},  # Tamaño y transparencia de los puntos\\n    line_kws={\"color\": \"red\"}  # Color de la línea de ajuste\\n)\\n\\n# Títulos\\nplt.title(\"Relación entre edad y voto a libertarios\", fontsize=16)\\nplt.xlabel(\"Edad (puntos medios)\", fontsize=12)\\nplt.ylabel(\"Voto al partido X (0 = No, 1 = Sí)\", fontsize=12)\\nplt.show()\\n'"
      ]
     },
     "execution_count": 1,
     "metadata": {},
     "output_type": "execute_result"
    }
   ],
   "source": [
    "\"\"\"\n",
    "# Definir los puntos medios de los grupos de edad\n",
    "puntos_medios_edad = {\n",
    "    \"16 a 25\": 20.5,\n",
    "    \"26 a 35\": 30.5,\n",
    "    \"36 a 45\": 40.5,\n",
    "    \"46 a 55\": 50.5,\n",
    "    \"56 y mas\": 65.5\n",
    "}\n",
    "# Mapear los valores en la columna 'edad'\n",
    "geo_encuestados['EDAD_PROMEDIOS'] = geo_encuestados['EDAD'].map(puntos_medios_edad)\n",
    "\n",
    "#geo_encuestados[\"LIBERTARIOS_PCT\"] = geo_encuestados[\"Voto_Libertarios\"].sum() / geo_encuestados.shape[0]\n",
    "#print(geo_encuestados[\"Voto_Libertarios\"].value_counts())\n",
    "#print(geo_encuestados[\"LIBERTARIOS_PCT\"])\n",
    "\n",
    "\n",
    "# Correlación de Pearson entre 'edad_num' y 'voto_partido_X'\n",
    "correlacion, p_valor = pearsonr(geo_encuestados['EDAD_PROMEDIOS'], geo_encuestados['Voto_Libertarios'])\n",
    "print(f\"Correlación de Pearson: {correlacion}\")\n",
    "print(f\"Valor p: {p_valor}\")\n",
    "\n",
    "plt.figure(figsize=(10, 6))\n",
    "sns.regplot(\n",
    "    data=geo_encuestados,\n",
    "    x=\"EDAD_PROMEDIOS\",\n",
    "    y=\"Voto_Libertarios\",\n",
    "    logistic=True,  # Ideal para relaciones binarias\n",
    "    scatter_kws={\"s\": 50, \"alpha\": 0.6},  # Tamaño y transparencia de los puntos\n",
    "    line_kws={\"color\": \"red\"}  # Color de la línea de ajuste\n",
    ")\n",
    "\n",
    "# Títulos\n",
    "plt.title(\"Relación entre edad y voto a libertarios\", fontsize=16)\n",
    "plt.xlabel(\"Edad (puntos medios)\", fontsize=12)\n",
    "plt.ylabel(\"Voto al partido X (0 = No, 1 = Sí)\", fontsize=12)\n",
    "plt.show()\n",
    "\"\"\""
   ]
  },
  {
   "cell_type": "code",
   "execution_count": 3,
   "id": "90530efa-3078-400d-952b-8344a978f049",
   "metadata": {},
   "outputs": [
    {
     "data": {
      "text/plain": [
       "'\\ncorrelacion, p_valor = pearsonr(geo_encuestados[\\'EDAD_PROMEDIOS\\'], geo_encuestados[\\'Voto_JxC\\'])\\n\\nprint(f\"Correlación de Pearson: {correlacion}\")\\nprint(f\"Valor p: {p_valor}\")\\n\\n\\n\\nplt.figure(figsize=(10, 6))\\nsns.regplot(\\n    data=geo_encuestados,\\n    x=\"EDAD_PROMEDIOS\",\\n    y=\"Voto_JxC\",\\n    logistic=True,  # Ideal para relaciones binarias\\n    scatter_kws={\"s\": 50, \"alpha\": 0.6},  # Tamaño y transparencia de los puntos\\n    line_kws={\"color\": \"red\"}  # Color de la línea de ajuste\\n)\\n\\n# Títulos\\nplt.title(\"Relación entre edad y voto a JxC\", fontsize=16)\\nplt.xlabel(\"Edad (puntos medios)\", fontsize=12)\\nplt.ylabel(\"Voto al partido X (0 = No, 1 = Sí)\", fontsize=12)\\nplt.show()\\n'"
      ]
     },
     "execution_count": 3,
     "metadata": {},
     "output_type": "execute_result"
    }
   ],
   "source": [
    "\"\"\"\n",
    "correlacion, p_valor = pearsonr(geo_encuestados['EDAD_PROMEDIOS'], geo_encuestados['Voto_JxC'])\n",
    "\n",
    "print(f\"Correlación de Pearson: {correlacion}\")\n",
    "print(f\"Valor p: {p_valor}\")\n",
    "\n",
    "\n",
    "\n",
    "plt.figure(figsize=(10, 6))\n",
    "sns.regplot(\n",
    "    data=geo_encuestados,\n",
    "    x=\"EDAD_PROMEDIOS\",\n",
    "    y=\"Voto_JxC\",\n",
    "    logistic=True,  # Ideal para relaciones binarias\n",
    "    scatter_kws={\"s\": 50, \"alpha\": 0.6},  # Tamaño y transparencia de los puntos\n",
    "    line_kws={\"color\": \"red\"}  # Color de la línea de ajuste\n",
    ")\n",
    "\n",
    "# Títulos\n",
    "plt.title(\"Relación entre edad y voto a JxC\", fontsize=16)\n",
    "plt.xlabel(\"Edad (puntos medios)\", fontsize=12)\n",
    "plt.ylabel(\"Voto al partido X (0 = No, 1 = Sí)\", fontsize=12)\n",
    "plt.show()\n",
    "\"\"\""
   ]
  },
  {
   "cell_type": "code",
   "execution_count": null,
   "id": "dfc09eb3-db2a-4eea-ba92-5846fd32a48c",
   "metadata": {},
   "outputs": [],
   "source": []
  }
 ],
 "metadata": {
  "kernelspec": {
   "display_name": "Python 3 (ipykernel)",
   "language": "python",
   "name": "python3"
  },
  "language_info": {
   "codemirror_mode": {
    "name": "ipython",
    "version": 3
   },
   "file_extension": ".py",
   "mimetype": "text/x-python",
   "name": "python",
   "nbconvert_exporter": "python",
   "pygments_lexer": "ipython3",
   "version": "3.12.4"
  }
 },
 "nbformat": 4,
 "nbformat_minor": 5
}
